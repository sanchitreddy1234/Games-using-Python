{
 "cells": [
  {
   "cell_type": "code",
   "execution_count": 3,
   "id": "5e23a124-1416-46fd-bbb6-6bba34de9621",
   "metadata": {},
   "outputs": [
    {
     "name": "stdout",
     "output_type": "stream",
     "text": [
      "Score: Computer0 Player 0\n"
     ]
    },
    {
     "name": "stdin",
     "output_type": "stream",
     "text": [
      "Rock, Paper, Scissors or Quit:  Rock\n"
     ]
    },
    {
     "name": "stdout",
     "output_type": "stream",
     "text": [
      "Player won\n",
      "Player: Rock\n",
      "Computer: Scissors\n",
      " \n",
      "Score: Computer 0Player1\n",
      " \n"
     ]
    },
    {
     "name": "stdin",
     "output_type": "stream",
     "text": [
      "Rock, Paper, Scissors or Quit:  Paper\n"
     ]
    },
    {
     "name": "stdout",
     "output_type": "stream",
     "text": [
      "Tie\n",
      "Player: Paper\n",
      "Computer: Paper\n",
      " \n",
      "Score: Computer 0Player1\n",
      " \n"
     ]
    },
    {
     "name": "stdin",
     "output_type": "stream",
     "text": [
      "Rock, Paper, Scissors or Quit:  Quit\n"
     ]
    }
   ],
   "source": [
    "import random\n",
    "game_list=['Rock','Paper','Scissors']\n",
    "computer=c=0\n",
    "command=p=0\n",
    "print(\"Score: Computer\" + str(c) + \" Player \" + str(p))\n",
    "run=True\n",
    "while run:\n",
    "    computer_choice=random.choice(game_list)\n",
    "    command=input(\"Rock, Paper, Scissors or Quit: \")\n",
    "    if command==computer_choice:\n",
    "        print(\"Tie\")\n",
    "    elif command=='Rock':\n",
    "        if computer_choice=='Scissors':\n",
    "            print(\"Player won\")\n",
    "            p+=1\n",
    "        else:\n",
    "            print(\"Computer won\")\n",
    "            c+=1\n",
    "    elif command=='Paper':\n",
    "        if computer=='Rock':\n",
    "            print(\"Player won\")\n",
    "            p+=1\n",
    "        else:\n",
    "            print(\"Computer won\")\n",
    "            c+=1\n",
    "    elif command=='Scissors':\n",
    "        if computer_choice=='Paper':\n",
    "            print(\"Player won\")\n",
    "            p+=1\n",
    "        else:\n",
    "            print(\"Computer won\")\n",
    "            c+=1\n",
    "    elif command=='Quit':\n",
    "        break\n",
    "    else:\n",
    "        print(\"Wrong command\")\n",
    "    print(\"Player: \"+command)\n",
    "    print(\"Computer: \"+computer_choice)\n",
    "    print(\" \")\n",
    "    print(\"Score: Computer \"+str(c)+\"Player\"+str(p))\n",
    "    print(\" \")"
   ]
  },
  {
   "cell_type": "code",
   "execution_count": null,
   "id": "87e5ca1a-2a66-466c-ad12-415bcac0306f",
   "metadata": {},
   "outputs": [],
   "source": []
  }
 ],
 "metadata": {
  "kernelspec": {
   "display_name": "Python 3 (ipykernel)",
   "language": "python",
   "name": "python3"
  },
  "language_info": {
   "codemirror_mode": {
    "name": "ipython",
    "version": 3
   },
   "file_extension": ".py",
   "mimetype": "text/x-python",
   "name": "python",
   "nbconvert_exporter": "python",
   "pygments_lexer": "ipython3",
   "version": "3.11.7"
  }
 },
 "nbformat": 4,
 "nbformat_minor": 5
}
