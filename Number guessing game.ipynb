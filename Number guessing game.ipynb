{
 "cells": [
  {
   "cell_type": "code",
   "execution_count": null,
   "id": "c8a180bb-12e5-459e-acda-a2a3d6b36981",
   "metadata": {},
   "outputs": [],
   "source": [
    "import random\n",
    "print(\"Enter a number between 1 to 100\\n\")\n",
    "n=random.randint(1,100)\n",
    "c=0\n",
    "while(1):\n",
    "    s=int(input(\"Enter the number \\n\"))\n",
    "    if s==n:\n",
    "        c+=1\n",
    "        print(\"Yes you have made %d attempts to guess the correct number\\n\"%(c))\n",
    "        break\n",
    "    elif s>n:\n",
    "        c+=1\n",
    "        print(\"You\n",
    "    "
   ]
  }
 ],
 "metadata": {
  "kernelspec": {
   "display_name": "Python 3 (ipykernel)",
   "language": "python",
   "name": "python3"
  },
  "language_info": {
   "codemirror_mode": {
    "name": "ipython",
    "version": 3
   },
   "file_extension": ".py",
   "mimetype": "text/x-python",
   "name": "python",
   "nbconvert_exporter": "python",
   "pygments_lexer": "ipython3",
   "version": "3.11.7"
  }
 },
 "nbformat": 4,
 "nbformat_minor": 5
}
