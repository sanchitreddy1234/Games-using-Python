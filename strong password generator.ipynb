{
 "cells": [
  {
   "cell_type": "code",
   "execution_count": null,
   "id": "6fcf666e-8167-41a4-ba5e-c2be8da24f55",
   "metadata": {},
   "outputs": [],
   "source": [
    "\n",
    "import string\n",
    "import random\n",
    "s1=list(string.ascii_lowercase)\n",
    "s2=list(string.ascii_uppercase)\n",
    "s3=list(string.digits)\n",
    "s4=list(string.punctuation)\n",
    "\n",
    "n=input(\"Tell me the how many characters do you want in your password?\")\n",
    "#Ensure that your password should be more than 8.\n",
    "\n",
    "while True:\n",
    "    try:\n",
    "        characters_number=int(n)\n",
    "        if characters_number<8:\n",
    "            print(\"Your number should be at least 8\")\n",
    "            n=input(\"Please enter the number again\")\n",
    "        else:\n",
    "            break\n",
    "    except:\n",
    "        prpint(\"Please, enter numbers only\")\n",
    "        n=input(\"How many characters do you want in your password?\")   \n",
    "\n",
    "random.shuffle(s1)\n",
    "random.shuffle(s2)\n",
    "random.shuffle(s3)\n",
    "random.shuffle(s4)\n",
    "\n",
    "#calculate 30% and 20% of number of characters\n",
    "\n",
    "part1=round(characters_number * (30/100))\n",
    "part2=round(characters_number * (20/100))\n",
    "\n",
    "#generation of the password (60% letters and 40% digits & punctuations)\n",
    "result=[]\n",
    "\n",
    "for i in range(part1):\n",
    "    result.append(s1[i])\n",
    "    result.append(s2[i])\n",
    "\n",
    "for i in range(part2):\n",
    "    result.append(s3[i])\n",
    "    result.append(s4[i])\n",
    "\n",
    "#shuffle result\n",
    "random.shuffle(result)\n",
    "\n",
    "#join result\n",
    "password=\"\".join(result)\n",
    "print(password)"
   ]
  },
  {
   "cell_type": "code",
   "execution_count": null,
   "id": "6ac94bae-d808-40f7-a7df-e3221ba6ed57",
   "metadata": {},
   "outputs": [],
   "source": []
  }
 ],
 "metadata": {
  "kernelspec": {
   "display_name": "Python 3 (ipykernel)",
   "language": "python",
   "name": "python3"
  },
  "language_info": {
   "codemirror_mode": {
    "name": "ipython",
    "version": 3
   },
   "file_extension": ".py",
   "mimetype": "text/x-python",
   "name": "python",
   "nbconvert_exporter": "python",
   "pygments_lexer": "ipython3",
   "version": "3.11.7"
  }
 },
 "nbformat": 4,
 "nbformat_minor": 5
}
